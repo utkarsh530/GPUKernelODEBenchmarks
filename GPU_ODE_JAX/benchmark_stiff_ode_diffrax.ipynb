{
 "cells": [
  {
   "cell_type": "code",
   "execution_count": 1,
   "id": "dcb5ea92",
   "metadata": {},
   "outputs": [],
   "source": [
    "import time\n",
    "\n",
    "import diffrax\n",
    "import equinox as eqx  # https://github.com/patrick-kidger/equinox\n",
    "import jax\n",
    "import jax.numpy as jnp\n",
    "import numpy as np\n",
    "import os\n",
    "import sys"
   ]
  },
  {
   "cell_type": "code",
   "execution_count": 2,
   "id": "e3077923",
   "metadata": {},
   "outputs": [
    {
     "ename": "ValueError",
     "evalue": "invalid literal for int() with base 10: '-f'",
     "output_type": "error",
     "traceback": [
      "\u001b[0;31m---------------------------------------------------------------------------\u001b[0m",
      "\u001b[0;31mValueError\u001b[0m                                Traceback (most recent call last)",
      "Cell \u001b[0;32mIn[2], line 1\u001b[0m\n\u001b[0;32m----> 1\u001b[0m numberOfParameters \u001b[38;5;241m=\u001b[39m \u001b[38;5;28;43mint\u001b[39;49m\u001b[43m(\u001b[49m\u001b[43msys\u001b[49m\u001b[38;5;241;43m.\u001b[39;49m\u001b[43margv\u001b[49m\u001b[43m[\u001b[49m\u001b[38;5;241;43m1\u001b[39;49m\u001b[43m]\u001b[49m\u001b[43m)\u001b[49m\n",
      "\u001b[0;31mValueError\u001b[0m: invalid literal for int() with base 10: '-f'"
     ]
    }
   ],
   "source": [
    "numberOfParameters = int(sys.argv[1])"
   ]
  },
  {
   "cell_type": "code",
   "execution_count": 3,
   "id": "dcae9315",
   "metadata": {},
   "outputs": [
    {
     "name": "stdout",
     "output_type": "stream",
     "text": [
      "Working on : gpu\n"
     ]
    }
   ],
   "source": [
    "from jax.lib import xla_bridge\n",
    "print(\"Working on :\", xla_bridge.get_backend().platform)"
   ]
  },
  {
   "cell_type": "code",
   "execution_count": 4,
   "id": "18d5ed2e",
   "metadata": {},
   "outputs": [],
   "source": [
    "jax.config.update(\"jax_enable_x64\", True)\n"
   ]
  },
  {
   "cell_type": "code",
   "execution_count": 5,
   "id": "7d6ffac8",
   "metadata": {},
   "outputs": [],
   "source": [
    "y0 = jnp.array([1.0, 0.0, 0.0])"
   ]
  },
  {
   "cell_type": "code",
   "execution_count": 6,
   "id": "def2f4f3",
   "metadata": {},
   "outputs": [],
   "source": [
    "class Robertson(eqx.Module):\n",
    "    k1: float\n",
    "    k2: float\n",
    "    k3: float\n",
    "\n",
    "    def __call__(self, t, y, args):\n",
    "        f0 = -self.k1 * y[0] + self.k3 * y[1] * y[2]\n",
    "        f1 = self.k1 * y[0] - self.k2 * y[1] ** 2 - self.k3 * y[1] * y[2]\n",
    "        f2 = self.k2 * y[1] ** 2\n",
    "        return jnp.stack([f0, f1, f2])"
   ]
  },
  {
   "cell_type": "code",
   "execution_count": 38,
   "id": "58fa3f48",
   "metadata": {},
   "outputs": [],
   "source": [
    "@jax.jit\n",
    "def main(k3):\n",
    "    robertson = Robertson(0.04, 3e7, k3)\n",
    "    terms = diffrax.ODETerm(robertson)\n",
    "    t0 = 0.0\n",
    "    t1 = 1e5\n",
    "    y0 = jnp.array([1.0, 0.0, 0.0])\n",
    "    dt0 = 0.0002\n",
    "    solver = diffrax.Kvaerno3()\n",
    "    saveat = diffrax.SaveAt(ts = jnp.array([t0,t1]))\n",
    "    stepsize_controller = diffrax.PIDController(rtol=1e-3, atol=1e-6)\n",
    "    sol = diffrax.diffeqsolve(\n",
    "        terms,\n",
    "        solver,\n",
    "        t0,\n",
    "        t1,\n",
    "        dt0,\n",
    "        y0,\n",
    "        saveat=saveat,\n",
    "        stepsize_controller=stepsize_controller,\n",
    "#         max_steps=None\n",
    "    )\n",
    "    return sol"
   ]
  },
  {
   "cell_type": "code",
   "execution_count": 39,
   "id": "dc8b9c3b",
   "metadata": {},
   "outputs": [],
   "source": [
    "# main(1e4)\n",
    "\n",
    "# start = time.time()\n",
    "# sol = main(1e4)\n",
    "# end = time.time()\n",
    "\n",
    "# print(\"Results:\")\n",
    "# for ti, yi in zip(sol.ts, sol.ys):\n",
    "#     print(f\"t={ti.item()}, y={yi.tolist()}\")\n",
    "# print(f\"Took {sol.stats['num_steps']} steps in {end - start} seconds.\")"
   ]
  },
  {
   "cell_type": "code",
   "execution_count": 47,
   "id": "19876ef6",
   "metadata": {},
   "outputs": [],
   "source": [
    "numberOfParameters = 768000\n",
    "parameterList = jnp.linspace(10.0,1e4,numberOfParameters)"
   ]
  },
  {
   "cell_type": "code",
   "execution_count": 48,
   "id": "c5d98215",
   "metadata": {},
   "outputs": [],
   "source": [
    "# a = jax.numpy.array([[ 1.01290589e-03,  2.75272126e-05, -2.69166597e-04,\n",
    "#         -5.58780779e-06],\n",
    "#        [ 2.75272126e-05,  1.34740128e-03, -4.34192721e-06,\n",
    "#         -3.00849575e-04],\n",
    "#        [-2.69166597e-04, -4.34192721e-06,  1.28766222e-04,\n",
    "#          7.41944929e-07],\n",
    "#        [-5.58780779e-06, -3.00849575e-04,  7.41944929e-07,\n",
    "#          7.99537441e-05]])\n",
    "\n",
    "# jax.numpy.linalg.cholesky(a)   # NOk"
   ]
  },
  {
   "cell_type": "code",
   "execution_count": 49,
   "id": "9af8940e",
   "metadata": {},
   "outputs": [
    {
     "data": {
      "text/plain": [
       "Array([   10.        ,    10.01300783,    10.02601566, ...,\n",
       "        9999.97398434,  9999.98699217, 10000.        ], dtype=float64)"
      ]
     },
     "execution_count": 49,
     "metadata": {},
     "output_type": "execute_result"
    }
   ],
   "source": [
    "parameterList"
   ]
  },
  {
   "cell_type": "code",
   "execution_count": 50,
   "id": "493e653d",
   "metadata": {},
   "outputs": [],
   "source": [
    "import timeit"
   ]
  },
  {
   "cell_type": "code",
   "execution_count": 51,
   "id": "176e5102",
   "metadata": {},
   "outputs": [],
   "source": [
    "sol = jax.vmap(main)(parameterList)"
   ]
  },
  {
   "cell_type": "code",
   "execution_count": 52,
   "id": "4794538d",
   "metadata": {},
   "outputs": [
    {
     "data": {
      "text/plain": [
       "{'max_steps': Array([4096, 4096, 4096, ..., 4096, 4096, 4096], dtype=int64, weak_type=True),\n",
       " 'num_accepted_steps': Array([56, 56, 56, ..., 63, 63, 63], dtype=int64, weak_type=True),\n",
       " 'num_rejected_steps': Array([0, 0, 0, ..., 0, 0, 0], dtype=int64, weak_type=True),\n",
       " 'num_steps': Array([56, 56, 56, ..., 63, 63, 63], dtype=int64, weak_type=True)}"
      ]
     },
     "execution_count": 52,
     "metadata": {},
     "output_type": "execute_result"
    }
   ],
   "source": [
    "sol.stats"
   ]
  },
  {
   "cell_type": "code",
   "execution_count": 53,
   "id": "67e402ee",
   "metadata": {},
   "outputs": [
    {
     "name": "stdout",
     "output_type": "stream",
     "text": [
      "1.58 s ± 2.3 ms per loop (mean ± std. dev. of 7 runs, 1 loop each)\n"
     ]
    }
   ],
   "source": [
    "%timeit jax.vmap(main)(parameterList)"
   ]
  },
  {
   "cell_type": "code",
   "execution_count": 65,
   "id": "4d55cca6",
   "metadata": {},
   "outputs": [],
   "source": [
    "data = jax.vmap(main)(parameterList)"
   ]
  },
  {
   "cell_type": "code",
   "execution_count": 25,
   "id": "43dd8bb9",
   "metadata": {},
   "outputs": [
    {
     "data": {
      "text/plain": [
       "Array([[[1.00000000e+00, 0.00000000e+00, 0.00000000e+00],\n",
       "        [2.10665622e-08, 8.42450306e-11, 9.99999979e-01]],\n",
       "\n",
       "       [[1.00000000e+00, 0.00000000e+00, 0.00000000e+00],\n",
       "        [1.11241824e-07, 1.93206882e-10, 9.99999889e-01]],\n",
       "\n",
       "       [[1.00000000e+00, 0.00000000e+00, 0.00000000e+00],\n",
       "        [2.72473913e-07, 3.02256787e-10, 9.99999727e-01]],\n",
       "\n",
       "       ...,\n",
       "\n",
       "       [[1.00000000e+00, 0.00000000e+00, 0.00000000e+00],\n",
       "        [1.77834458e-02, 7.25947078e-08, 9.82216482e-01]],\n",
       "\n",
       "       [[1.00000000e+00, 0.00000000e+00, 0.00000000e+00],\n",
       "        [1.78246728e-02, 7.26711608e-08, 9.82175254e-01]],\n",
       "\n",
       "       [[1.00000000e+00, 0.00000000e+00, 0.00000000e+00],\n",
       "        [1.78659329e-02, 7.27475660e-08, 9.82133994e-01]]],      dtype=float64, weak_type=True)"
      ]
     },
     "execution_count": 25,
     "metadata": {},
     "output_type": "execute_result"
    }
   ],
   "source": [
    "data.ys"
   ]
  },
  {
   "cell_type": "code",
   "execution_count": 35,
   "id": "167f7826",
   "metadata": {},
   "outputs": [],
   "source": [
    "res = timeit.repeat(lambda: jax.vmap(main)(parameterList),repeat = 100,number = 1)"
   ]
  },
  {
   "cell_type": "code",
   "execution_count": 44,
   "id": "1e469d1b",
   "metadata": {},
   "outputs": [],
   "source": [
    "best_time = min(res)*1000"
   ]
  },
  {
   "cell_type": "code",
   "execution_count": 46,
   "id": "72b68334",
   "metadata": {},
   "outputs": [],
   "source": [
    "file = open(\"./data/Stiff_ODE/Jax_times_adaptive.txt\",\"a+\")\n",
    "file.write('{0} {1}\\n'.format(numberOfParameters, best_time))\n",
    "file.close()"
   ]
  },
  {
   "cell_type": "code",
   "execution_count": null,
   "id": "cb4d7d43",
   "metadata": {},
   "outputs": [],
   "source": []
  }
 ],
 "metadata": {
  "kernelspec": {
   "display_name": "Python [conda env:.conda-venv_jax]",
   "language": "python",
   "name": "conda-env-.conda-venv_jax-py"
  },
  "language_info": {
   "codemirror_mode": {
    "name": "ipython",
    "version": 3
   },
   "file_extension": ".py",
   "mimetype": "text/x-python",
   "name": "python",
   "nbconvert_exporter": "python",
   "pygments_lexer": "ipython3",
   "version": "3.9.16"
  },
  "latex_envs": {
   "LaTeX_envs_menu_present": true,
   "autoclose": false,
   "autocomplete": true,
   "bibliofile": "biblio.bib",
   "cite_by": "apalike",
   "current_citInitial": 1,
   "eqLabelWithNumbers": true,
   "eqNumInitial": 1,
   "hotkeys": {
    "equation": "Ctrl-E",
    "itemize": "Ctrl-I"
   },
   "labels_anchors": false,
   "latex_user_defs": false,
   "report_style_numbering": false,
   "user_envs_cfg": false
  },
  "toc": {
   "base_numbering": 1,
   "nav_menu": {},
   "number_sections": true,
   "sideBar": true,
   "skip_h1_title": false,
   "title_cell": "Table of Contents",
   "title_sidebar": "Contents",
   "toc_cell": false,
   "toc_position": {},
   "toc_section_display": true,
   "toc_window_display": false
  }
 },
 "nbformat": 4,
 "nbformat_minor": 5
}
