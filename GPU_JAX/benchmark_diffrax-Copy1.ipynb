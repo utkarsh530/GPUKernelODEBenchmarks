{
 "cells": [
  {
   "cell_type": "code",
   "execution_count": 1,
   "id": "2036b582",
   "metadata": {},
   "outputs": [
    {
     "name": "stdout",
     "output_type": "stream",
     "text": [
      "CpuDevice(id=0)\n"
     ]
    }
   ],
   "source": [
    "import jax\n",
    "import jax.numpy as jnp\n",
    "\n",
    "# Global flag to set a specific platform, must be used at startup.\n",
    "jax.config.update('jax_platform_name', 'cpu')\n",
    "\n",
    "x = jnp.square(2)\n",
    "print(repr(x.device_buffer.device()))  # CpuDevice(id=0)"
   ]
  },
  {
   "cell_type": "code",
   "execution_count": 2,
   "id": "dcb5ea92",
   "metadata": {},
   "outputs": [],
   "source": [
    "import time\n",
    "\n",
    "import diffrax\n",
    "import equinox as eqx  # https://github.com/patrick-kidger/equinox\n",
    "import jax\n",
    "import jax.numpy as jnp\n",
    "import numpy as np"
   ]
  },
  {
   "cell_type": "code",
   "execution_count": 3,
   "id": "daf839c9",
   "metadata": {},
   "outputs": [],
   "source": [
    "from matplotlib import pyplot as  plt"
   ]
  },
  {
   "cell_type": "code",
   "execution_count": 4,
   "id": "6ddc024a",
   "metadata": {},
   "outputs": [
    {
     "name": "stdout",
     "output_type": "stream",
     "text": [
      "cpu\n"
     ]
    }
   ],
   "source": [
    "from jax.lib import xla_bridge\n",
    "print(xla_bridge.get_backend().platform)"
   ]
  },
  {
   "cell_type": "code",
   "execution_count": 5,
   "id": "71a5f1a2",
   "metadata": {},
   "outputs": [],
   "source": [
    "#jax.config.update(\"jax_enable_x64\", True)"
   ]
  },
  {
   "cell_type": "code",
   "execution_count": 6,
   "id": "7b18abce",
   "metadata": {},
   "outputs": [
    {
     "data": {
      "text/plain": [
       "DeviceArray([1.], dtype=float32)"
      ]
     },
     "execution_count": 6,
     "metadata": {},
     "output_type": "execute_result"
    }
   ],
   "source": [
    "jnp.array([1.0],dtype = float)"
   ]
  },
  {
   "cell_type": "code",
   "execution_count": 7,
   "id": "def2f4f3",
   "metadata": {},
   "outputs": [],
   "source": [
    "class Lorenz(eqx.Module):\n",
    "    k1: float\n",
    "\n",
    "    def __call__(self, t, y, args):\n",
    "        f0 = 10.0*(y[1] - y[0])\n",
    "        f1 = self.k1 * y[0] - y[1] - y[0] * y[2]\n",
    "        f2 = y[0] * y[1] - (8/3)*y[2]\n",
    "        return jnp.stack([f0, f1, f2])"
   ]
  },
  {
   "cell_type": "code",
   "execution_count": 8,
   "id": "302b8af5",
   "metadata": {},
   "outputs": [],
   "source": [
    "@jax.jit\n",
    "def main(k1):\n",
    "    lorenz = Lorenz(k1)\n",
    "    terms = diffrax.ODETerm(lorenz)\n",
    "    t0 = 0.0\n",
    "    t1 = 1.0\n",
    "    y0 = jnp.array([1.0, 0.0, 0.0])\n",
    "    dt0 = 0.001\n",
    "    solver = diffrax.Tsit5()\n",
    "    saveat = diffrax.SaveAt(ts = jnp.array([t0,t1]))\n",
    "    stepsize_controller = diffrax.PIDController(rtol=1e-6, atol=1e-3)\n",
    "    sol = diffrax.diffeqsolve(\n",
    "        terms,\n",
    "        solver,\n",
    "        t0,\n",
    "        t1,\n",
    "        dt0,\n",
    "        y0,\n",
    "#         saveat=saveat,\n",
    "        #stepsize_controller=stepsize_controller,\n",
    "    )\n",
    "    return sol"
   ]
  },
  {
   "cell_type": "code",
   "execution_count": 9,
   "id": "05a15dd6",
   "metadata": {},
   "outputs": [
    {
     "name": "stderr",
     "output_type": "stream",
     "text": [
      "/home/gridsan/utkarsh/.conda/envs/venv/lib/python3.10/site-packages/diffrax/integrate.py:83: FutureWarning: jax.tree_leaves is deprecated, and will be removed in a future release. Use jax.tree_util.tree_leaves instead.\n",
      "  [ts, save_index] + jax.tree_leaves(ys),\n",
      "/home/gridsan/utkarsh/.conda/envs/venv/lib/python3.10/site-packages/diffrax/integrate.py:81: FutureWarning: jax.tree_leaves is deprecated, and will be removed in a future release. Use jax.tree_util.tree_leaves instead.\n",
      "  lambda s: [s.ts, s.save_index] + jax.tree_leaves(s.ys),\n"
     ]
    },
    {
     "data": {
      "text/plain": [
       "Solution(\n",
       "  t0=f32[],\n",
       "  t1=f32[],\n",
       "  ts=f32[1],\n",
       "  ys=f32[1,3],\n",
       "  interpolation=None,\n",
       "  stats={\n",
       "    'compiled_num_steps':\n",
       "    None,\n",
       "    'max_steps':\n",
       "    i32[],\n",
       "    'num_accepted_steps':\n",
       "    i32[],\n",
       "    'num_rejected_steps':\n",
       "    i32[],\n",
       "    'num_steps':\n",
       "    i32[]\n",
       "  },\n",
       "  result=i32[],\n",
       "  solver_state=None,\n",
       "  controller_state=None,\n",
       "  made_jump=None\n",
       ")"
      ]
     },
     "execution_count": 9,
     "metadata": {},
     "output_type": "execute_result"
    }
   ],
   "source": [
    "main(28.0)\n"
   ]
  },
  {
   "cell_type": "code",
   "execution_count": 10,
   "id": "dc8b9c3b",
   "metadata": {},
   "outputs": [
    {
     "name": "stdout",
     "output_type": "stream",
     "text": [
      "Results:\n",
      "t=1.0, y=[-9.408472061157227, -9.096207618713379, 28.58167266845703]\n",
      "Took 1001 steps in 0.0003418922424316406 seconds.\n"
     ]
    }
   ],
   "source": [
    "\n",
    "start = time.time()\n",
    "sol = main(28.0)\n",
    "end = time.time()\n",
    "\n",
    "print(\"Results:\")\n",
    "for ti, yi in zip(sol.ts, sol.ys):\n",
    "    print(f\"t={ti.item()}, y={yi.tolist()}\")\n",
    "print(f\"Took {sol.stats['num_steps']} steps in {end - start} seconds.\")"
   ]
  },
  {
   "cell_type": "code",
   "execution_count": 11,
   "id": "c5cf2d7c",
   "metadata": {},
   "outputs": [],
   "source": [
    "numberOfParameters = 768000\n",
    "parameterList = jnp.linspace(0.0,21.0,numberOfParameters)"
   ]
  },
  {
   "cell_type": "code",
   "execution_count": 12,
   "id": "adb7251f",
   "metadata": {},
   "outputs": [
    {
     "data": {
      "text/plain": [
       "DeviceArray([0.0000000e+00, 2.7343785e-05, 5.4687571e-05, ...,\n",
       "             2.0999945e+01, 2.0999973e+01, 2.1000000e+01], dtype=float32)"
      ]
     },
     "execution_count": 12,
     "metadata": {},
     "output_type": "execute_result"
    }
   ],
   "source": [
    "parameterList"
   ]
  },
  {
   "cell_type": "code",
   "execution_count": 13,
   "id": "bb2fbaa9",
   "metadata": {},
   "outputs": [
    {
     "name": "stdout",
     "output_type": "stream",
     "text": [
      "152 µs ± 1.2 µs per loop (mean ± std. dev. of 7 runs, 10,000 loops each)\n"
     ]
    }
   ],
   "source": [
    "%timeit main(28.0)"
   ]
  },
  {
   "cell_type": "code",
   "execution_count": 329,
   "id": "bb3064cd",
   "metadata": {},
   "outputs": [],
   "source": [
    "out = jax.vmap(main)(parameterList)"
   ]
  },
  {
   "cell_type": "code",
   "execution_count": 330,
   "id": "9af82972",
   "metadata": {},
   "outputs": [
    {
     "name": "stdout",
     "output_type": "stream",
     "text": [
      "975 ms ± 158 µs per loop (mean ± std. dev. of 7 runs, 1 loop each)\n"
     ]
    }
   ],
   "source": [
    "%timeit jax.vmap(main)(parameterList)"
   ]
  },
  {
   "cell_type": "code",
   "execution_count": 334,
   "id": "9ae4302b",
   "metadata": {},
   "outputs": [],
   "source": [
    "@jax.jit\n",
    "def solve(prob):\n",
    "    t0 = 0.0\n",
    "    t1 = 1.0\n",
    "    y0 = jnp.array([1.0, 0.0, 0.0])\n",
    "    dt0 = 0.001\n",
    "    sol = diffrax.diffeqsolve(\n",
    "        prob,\n",
    "        diffrax.Tsit5(),\n",
    "        t0,\n",
    "        t1,\n",
    "        dt0,\n",
    "        y0,\n",
    "#         saveat=saveat,\n",
    "        #stepsize_controller=stepsize_controller,\n",
    "    )\n",
    "    return sol"
   ]
  },
  {
   "cell_type": "code",
   "execution_count": 335,
   "id": "d5bf123e",
   "metadata": {},
   "outputs": [],
   "source": [
    "prob = diffrax.ODETerm(Lorenz(28.0))"
   ]
  },
  {
   "cell_type": "code",
   "execution_count": 336,
   "id": "dea34435",
   "metadata": {},
   "outputs": [
    {
     "data": {
      "text/plain": [
       "ODETerm(vector_field=Lorenz(k1=28.0))"
      ]
     },
     "execution_count": 336,
     "metadata": {},
     "output_type": "execute_result"
    }
   ],
   "source": [
    "prob"
   ]
  },
  {
   "cell_type": "code",
   "execution_count": 337,
   "id": "4d66db99",
   "metadata": {},
   "outputs": [
    {
     "name": "stderr",
     "output_type": "stream",
     "text": [
      "/home/gridsan/utkarsh/.conda/envs/venv/lib/python3.10/site-packages/diffrax/integrate.py:83: FutureWarning: jax.tree_leaves is deprecated, and will be removed in a future release. Use jax.tree_util.tree_leaves instead.\n",
      "  [ts, save_index] + jax.tree_leaves(ys),\n",
      "/home/gridsan/utkarsh/.conda/envs/venv/lib/python3.10/site-packages/diffrax/integrate.py:81: FutureWarning: jax.tree_leaves is deprecated, and will be removed in a future release. Use jax.tree_util.tree_leaves instead.\n",
      "  lambda s: [s.ts, s.save_index] + jax.tree_leaves(s.ys),\n"
     ]
    },
    {
     "data": {
      "text/plain": [
       "Solution(\n",
       "  t0=f32[],\n",
       "  t1=f32[],\n",
       "  ts=f32[1],\n",
       "  ys=f32[1,3],\n",
       "  interpolation=None,\n",
       "  stats={\n",
       "    'compiled_num_steps':\n",
       "    None,\n",
       "    'max_steps':\n",
       "    i32[],\n",
       "    'num_accepted_steps':\n",
       "    i32[],\n",
       "    'num_rejected_steps':\n",
       "    i32[],\n",
       "    'num_steps':\n",
       "    i32[]\n",
       "  },\n",
       "  result=i32[],\n",
       "  solver_state=None,\n",
       "  controller_state=None,\n",
       "  made_jump=None\n",
       ")"
      ]
     },
     "execution_count": 337,
     "metadata": {},
     "output_type": "execute_result"
    }
   ],
   "source": [
    "solve(prob)"
   ]
  },
  {
   "cell_type": "code",
   "execution_count": 23,
   "id": "7c845eda",
   "metadata": {},
   "outputs": [
    {
     "ename": "NameError",
     "evalue": "name 'solve' is not defined",
     "output_type": "error",
     "traceback": [
      "\u001b[0;31m---------------------------------------------------------------------------\u001b[0m",
      "\u001b[0;31mNameError\u001b[0m                                 Traceback (most recent call last)",
      "Cell \u001b[0;32mIn [23], line 1\u001b[0m\n\u001b[0;32m----> 1\u001b[0m \u001b[43mget_ipython\u001b[49m\u001b[43m(\u001b[49m\u001b[43m)\u001b[49m\u001b[38;5;241;43m.\u001b[39;49m\u001b[43mrun_line_magic\u001b[49m\u001b[43m(\u001b[49m\u001b[38;5;124;43m'\u001b[39;49m\u001b[38;5;124;43mtimeit\u001b[39;49m\u001b[38;5;124;43m'\u001b[39;49m\u001b[43m,\u001b[49m\u001b[43m \u001b[49m\u001b[38;5;124;43m'\u001b[39;49m\u001b[38;5;124;43msol = solve(prob)\u001b[39;49m\u001b[38;5;124;43m'\u001b[39;49m\u001b[43m)\u001b[49m\n",
      "File \u001b[0;32m~/.conda/envs/venv/lib/python3.10/site-packages/IPython/core/interactiveshell.py:2309\u001b[0m, in \u001b[0;36mInteractiveShell.run_line_magic\u001b[0;34m(self, magic_name, line, _stack_depth)\u001b[0m\n\u001b[1;32m   2307\u001b[0m     kwargs[\u001b[38;5;124m'\u001b[39m\u001b[38;5;124mlocal_ns\u001b[39m\u001b[38;5;124m'\u001b[39m] \u001b[38;5;241m=\u001b[39m \u001b[38;5;28mself\u001b[39m\u001b[38;5;241m.\u001b[39mget_local_scope(stack_depth)\n\u001b[1;32m   2308\u001b[0m \u001b[38;5;28;01mwith\u001b[39;00m \u001b[38;5;28mself\u001b[39m\u001b[38;5;241m.\u001b[39mbuiltin_trap:\n\u001b[0;32m-> 2309\u001b[0m     result \u001b[38;5;241m=\u001b[39m \u001b[43mfn\u001b[49m\u001b[43m(\u001b[49m\u001b[38;5;241;43m*\u001b[39;49m\u001b[43margs\u001b[49m\u001b[43m,\u001b[49m\u001b[43m \u001b[49m\u001b[38;5;241;43m*\u001b[39;49m\u001b[38;5;241;43m*\u001b[39;49m\u001b[43mkwargs\u001b[49m\u001b[43m)\u001b[49m\n\u001b[1;32m   2310\u001b[0m \u001b[38;5;28;01mreturn\u001b[39;00m result\n",
      "File \u001b[0;32m~/.conda/envs/venv/lib/python3.10/site-packages/IPython/core/magics/execution.py:1162\u001b[0m, in \u001b[0;36mExecutionMagics.timeit\u001b[0;34m(self, line, cell, local_ns)\u001b[0m\n\u001b[1;32m   1160\u001b[0m \u001b[38;5;28;01mfor\u001b[39;00m index \u001b[38;5;129;01min\u001b[39;00m \u001b[38;5;28mrange\u001b[39m(\u001b[38;5;241m0\u001b[39m, \u001b[38;5;241m10\u001b[39m):\n\u001b[1;32m   1161\u001b[0m     number \u001b[38;5;241m=\u001b[39m \u001b[38;5;241m10\u001b[39m \u001b[38;5;241m*\u001b[39m\u001b[38;5;241m*\u001b[39m index\n\u001b[0;32m-> 1162\u001b[0m     time_number \u001b[38;5;241m=\u001b[39m \u001b[43mtimer\u001b[49m\u001b[38;5;241;43m.\u001b[39;49m\u001b[43mtimeit\u001b[49m\u001b[43m(\u001b[49m\u001b[43mnumber\u001b[49m\u001b[43m)\u001b[49m\n\u001b[1;32m   1163\u001b[0m     \u001b[38;5;28;01mif\u001b[39;00m time_number \u001b[38;5;241m>\u001b[39m\u001b[38;5;241m=\u001b[39m \u001b[38;5;241m0.2\u001b[39m:\n\u001b[1;32m   1164\u001b[0m         \u001b[38;5;28;01mbreak\u001b[39;00m\n",
      "File \u001b[0;32m~/.conda/envs/venv/lib/python3.10/site-packages/IPython/core/magics/execution.py:156\u001b[0m, in \u001b[0;36mTimer.timeit\u001b[0;34m(self, number)\u001b[0m\n\u001b[1;32m    154\u001b[0m gc\u001b[38;5;241m.\u001b[39mdisable()\n\u001b[1;32m    155\u001b[0m \u001b[38;5;28;01mtry\u001b[39;00m:\n\u001b[0;32m--> 156\u001b[0m     timing \u001b[38;5;241m=\u001b[39m \u001b[38;5;28;43mself\u001b[39;49m\u001b[38;5;241;43m.\u001b[39;49m\u001b[43minner\u001b[49m\u001b[43m(\u001b[49m\u001b[43mit\u001b[49m\u001b[43m,\u001b[49m\u001b[43m \u001b[49m\u001b[38;5;28;43mself\u001b[39;49m\u001b[38;5;241;43m.\u001b[39;49m\u001b[43mtimer\u001b[49m\u001b[43m)\u001b[49m\n\u001b[1;32m    157\u001b[0m \u001b[38;5;28;01mfinally\u001b[39;00m:\n\u001b[1;32m    158\u001b[0m     \u001b[38;5;28;01mif\u001b[39;00m gcold:\n",
      "File \u001b[0;32m<magic-timeit>:1\u001b[0m, in \u001b[0;36minner\u001b[0;34m(_it, _timer)\u001b[0m\n",
      "\u001b[0;31mNameError\u001b[0m: name 'solve' is not defined"
     ]
    }
   ],
   "source": [
    "%timeit sol = solve(prob)"
   ]
  },
  {
   "cell_type": "code",
   "execution_count": null,
   "id": "ee8c3aca",
   "metadata": {},
   "outputs": [],
   "source": []
  },
  {
   "cell_type": "code",
   "execution_count": 39,
   "id": "7c183ab3",
   "metadata": {},
   "outputs": [],
   "source": [
    "@jax.jit\n",
    "def main(k1):\n",
    "    lorenz = Lorenz(k1)\n",
    "    terms = diffrax.ODETerm(lorenz)\n",
    "    t0 = 0.0\n",
    "    t1 = 1.0\n",
    "    y0 = jnp.array([1.0, 0.0, 0.0])\n",
    "    dt0 = 0.001\n",
    "    solver = diffrax.Tsit5()\n",
    "    saveat = diffrax.SaveAt(ts = jnp.array([t0,t1]))\n",
    "    stepsize_controller = diffrax.PIDController(rtol=1e-9, atol=1e-8)\n",
    "    sol = diffrax.diffeqsolve(\n",
    "        terms,\n",
    "        solver,\n",
    "        t0,\n",
    "        t1,\n",
    "        dt0,\n",
    "        y0,\n",
    "#         saveat=saveat,\n",
    "        stepsize_controller=stepsize_controller,\n",
    "    )\n",
    "    return sol"
   ]
  },
  {
   "cell_type": "code",
   "execution_count": 40,
   "id": "e55964cc",
   "metadata": {},
   "outputs": [
    {
     "name": "stderr",
     "output_type": "stream",
     "text": [
      "/home/gridsan/utkarsh/.conda/envs/venv/lib/python3.10/site-packages/diffrax/integrate.py:83: FutureWarning: jax.tree_leaves is deprecated, and will be removed in a future release. Use jax.tree_util.tree_leaves instead.\n",
      "  [ts, save_index] + jax.tree_leaves(ys),\n",
      "/home/gridsan/utkarsh/.conda/envs/venv/lib/python3.10/site-packages/diffrax/integrate.py:81: FutureWarning: jax.tree_leaves is deprecated, and will be removed in a future release. Use jax.tree_util.tree_leaves instead.\n",
      "  lambda s: [s.ts, s.save_index] + jax.tree_leaves(s.ys),\n",
      "ERROR:absl:Outside call <jax.experimental.host_callback._CallbackWrapper object at 0x7fda983e8fa0> threw exception The maximum number of solver steps was reached. Try increasing `max_steps`..\n"
     ]
    },
    {
     "ename": "XlaRuntimeError",
     "evalue": "INTERNAL: Generated function failed: CpuCallback error: RuntimeError: The maximum number of solver steps was reached. Try increasing `max_steps`.\n\nAt:\n  /home/gridsan/utkarsh/.conda/envs/venv/lib/python3.10/site-packages/diffrax/misc/errors.py(33): raises\n  /home/gridsan/utkarsh/.conda/envs/venv/lib/python3.10/site-packages/jax/experimental/host_callback.py(725): __call__\n  /home/gridsan/utkarsh/.conda/envs/venv/lib/python3.10/site-packages/jax/experimental/host_callback.py(1294): _outside_call_run_callback\n  /home/gridsan/utkarsh/.conda/envs/venv/lib/python3.10/site-packages/jax/experimental/host_callback.py(1163): wrapped_callback\n  /home/gridsan/utkarsh/.conda/envs/venv/lib/python3.10/site-packages/jax/interpreters/mlir.py(1567): _wrapped_callback\n  /home/gridsan/utkarsh/.conda/envs/venv/lib/python3.10/site-packages/jax/interpreters/mlir.py(1592): _wrapped_callback\n  /home/gridsan/utkarsh/.conda/envs/venv/lib/python3.10/site-packages/jax/_src/dispatch.py(878): _execute_compiled\n  /home/gridsan/utkarsh/.conda/envs/venv/lib/python3.10/site-packages/jax/_src/dispatch.py(237): _xla_call_impl\n  /home/gridsan/utkarsh/.conda/envs/venv/lib/python3.10/site-packages/jax/core.py(701): process_call\n  /home/gridsan/utkarsh/.conda/envs/venv/lib/python3.10/site-packages/jax/core.py(1955): call_bind\n  /home/gridsan/utkarsh/.conda/envs/venv/lib/python3.10/site-packages/jax/core.py(1939): bind\n  /home/gridsan/utkarsh/.conda/envs/venv/lib/python3.10/site-packages/jax/_src/api.py(606): cache_miss\n  /home/gridsan/utkarsh/.conda/envs/venv/lib/python3.10/site-packages/jax/_src/traceback_util.py(162): reraise_with_filtered_traceback\n  <magic-timeit>(1): inner\n  /home/gridsan/utkarsh/.conda/envs/venv/lib/python3.10/site-packages/IPython/core/magics/execution.py(156): timeit\n  /home/gridsan/utkarsh/.conda/envs/venv/lib/python3.10/site-packages/IPython/core/magics/execution.py(1162): timeit\n  /home/gridsan/utkarsh/.conda/envs/venv/lib/python3.10/site-packages/IPython/core/interactiveshell.py(2309): run_line_magic\n  /state/partition1/slurm_tmp/20500750.0.0/ipykernel_57217/3263374720.py(1): <module>\n  /home/gridsan/utkarsh/.conda/envs/venv/lib/python3.10/site-packages/IPython/core/interactiveshell.py(3378): run_code\n  /home/gridsan/utkarsh/.conda/envs/venv/lib/python3.10/site-packages/IPython/core/interactiveshell.py(3318): run_ast_nodes\n  /home/gridsan/utkarsh/.conda/envs/venv/lib/python3.10/site-packages/IPython/core/interactiveshell.py(3139): run_cell_async\n  /home/gridsan/utkarsh/.conda/envs/venv/lib/python3.10/site-packages/IPython/core/async_helpers.py(129): _pseudo_sync_runner\n  /home/gridsan/utkarsh/.conda/envs/venv/lib/python3.10/site-packages/IPython/core/interactiveshell.py(2940): _run_cell\n  /home/gridsan/utkarsh/.conda/envs/venv/lib/python3.10/site-packages/IPython/core/interactiveshell.py(2885): run_cell\n  /home/gridsan/utkarsh/.conda/envs/venv/lib/python3.10/site-packages/ipykernel/zmqshell.py(528): run_cell\n  /home/gridsan/utkarsh/.conda/envs/venv/lib/python3.10/site-packages/ipykernel/ipkernel.py(383): do_execute\n  /home/gridsan/utkarsh/.conda/envs/venv/lib/python3.10/site-packages/ipykernel/kernelbase.py(730): execute_request\n  /home/gridsan/utkarsh/.conda/envs/venv/lib/python3.10/site-packages/ipykernel/kernelbase.py(406): dispatch_shell\n  /home/gridsan/utkarsh/.conda/envs/venv/lib/python3.10/site-packages/ipykernel/kernelbase.py(499): process_one\n  /home/gridsan/utkarsh/.conda/envs/venv/lib/python3.10/site-packages/ipykernel/kernelbase.py(510): dispatch_queue\n  /home/gridsan/utkarsh/.conda/envs/venv/lib/python3.10/asyncio/events.py(80): _run\n  /home/gridsan/utkarsh/.conda/envs/venv/lib/python3.10/asyncio/base_events.py(1896): _run_once\n  /home/gridsan/utkarsh/.conda/envs/venv/lib/python3.10/asyncio/base_events.py(600): run_forever\n  /home/gridsan/utkarsh/.conda/envs/venv/lib/python3.10/site-packages/tornado/platform/asyncio.py(199): start\n  /home/gridsan/utkarsh/.conda/envs/venv/lib/python3.10/site-packages/ipykernel/kernelapp.py(712): start\n  /home/gridsan/utkarsh/.conda/envs/venv/lib/python3.10/site-packages/traitlets/config/application.py(982): launch_instance\n  /home/gridsan/utkarsh/.conda/envs/venv/lib/python3.10/site-packages/ipykernel_launcher.py(17): <module>\n  /home/gridsan/utkarsh/.conda/envs/venv/lib/python3.10/runpy.py(86): _run_code\n  /home/gridsan/utkarsh/.conda/envs/venv/lib/python3.10/runpy.py(196): _run_module_as_main\n",
     "output_type": "error",
     "traceback": [
      "\u001b[0;31m---------------------------------------------------------------------------\u001b[0m",
      "\u001b[0;31mXlaRuntimeError\u001b[0m                           Traceback (most recent call last)",
      "Cell \u001b[0;32mIn [40], line 1\u001b[0m\n\u001b[0;32m----> 1\u001b[0m \u001b[43mget_ipython\u001b[49m\u001b[43m(\u001b[49m\u001b[43m)\u001b[49m\u001b[38;5;241;43m.\u001b[39;49m\u001b[43mrun_line_magic\u001b[49m\u001b[43m(\u001b[49m\u001b[38;5;124;43m'\u001b[39;49m\u001b[38;5;124;43mtimeit\u001b[39;49m\u001b[38;5;124;43m'\u001b[39;49m\u001b[43m,\u001b[49m\u001b[43m \u001b[49m\u001b[38;5;124;43m'\u001b[39;49m\u001b[38;5;124;43msol = main(28.0)\u001b[39;49m\u001b[38;5;124;43m'\u001b[39;49m\u001b[43m)\u001b[49m\n",
      "File \u001b[0;32m~/.conda/envs/venv/lib/python3.10/site-packages/IPython/core/interactiveshell.py:2309\u001b[0m, in \u001b[0;36mInteractiveShell.run_line_magic\u001b[0;34m(self, magic_name, line, _stack_depth)\u001b[0m\n\u001b[1;32m   2307\u001b[0m     kwargs[\u001b[38;5;124m'\u001b[39m\u001b[38;5;124mlocal_ns\u001b[39m\u001b[38;5;124m'\u001b[39m] \u001b[38;5;241m=\u001b[39m \u001b[38;5;28mself\u001b[39m\u001b[38;5;241m.\u001b[39mget_local_scope(stack_depth)\n\u001b[1;32m   2308\u001b[0m \u001b[38;5;28;01mwith\u001b[39;00m \u001b[38;5;28mself\u001b[39m\u001b[38;5;241m.\u001b[39mbuiltin_trap:\n\u001b[0;32m-> 2309\u001b[0m     result \u001b[38;5;241m=\u001b[39m \u001b[43mfn\u001b[49m\u001b[43m(\u001b[49m\u001b[38;5;241;43m*\u001b[39;49m\u001b[43margs\u001b[49m\u001b[43m,\u001b[49m\u001b[43m \u001b[49m\u001b[38;5;241;43m*\u001b[39;49m\u001b[38;5;241;43m*\u001b[39;49m\u001b[43mkwargs\u001b[49m\u001b[43m)\u001b[49m\n\u001b[1;32m   2310\u001b[0m \u001b[38;5;28;01mreturn\u001b[39;00m result\n",
      "File \u001b[0;32m~/.conda/envs/venv/lib/python3.10/site-packages/IPython/core/magics/execution.py:1162\u001b[0m, in \u001b[0;36mExecutionMagics.timeit\u001b[0;34m(self, line, cell, local_ns)\u001b[0m\n\u001b[1;32m   1160\u001b[0m \u001b[38;5;28;01mfor\u001b[39;00m index \u001b[38;5;129;01min\u001b[39;00m \u001b[38;5;28mrange\u001b[39m(\u001b[38;5;241m0\u001b[39m, \u001b[38;5;241m10\u001b[39m):\n\u001b[1;32m   1161\u001b[0m     number \u001b[38;5;241m=\u001b[39m \u001b[38;5;241m10\u001b[39m \u001b[38;5;241m*\u001b[39m\u001b[38;5;241m*\u001b[39m index\n\u001b[0;32m-> 1162\u001b[0m     time_number \u001b[38;5;241m=\u001b[39m \u001b[43mtimer\u001b[49m\u001b[38;5;241;43m.\u001b[39;49m\u001b[43mtimeit\u001b[49m\u001b[43m(\u001b[49m\u001b[43mnumber\u001b[49m\u001b[43m)\u001b[49m\n\u001b[1;32m   1163\u001b[0m     \u001b[38;5;28;01mif\u001b[39;00m time_number \u001b[38;5;241m>\u001b[39m\u001b[38;5;241m=\u001b[39m \u001b[38;5;241m0.2\u001b[39m:\n\u001b[1;32m   1164\u001b[0m         \u001b[38;5;28;01mbreak\u001b[39;00m\n",
      "File \u001b[0;32m~/.conda/envs/venv/lib/python3.10/site-packages/IPython/core/magics/execution.py:156\u001b[0m, in \u001b[0;36mTimer.timeit\u001b[0;34m(self, number)\u001b[0m\n\u001b[1;32m    154\u001b[0m gc\u001b[38;5;241m.\u001b[39mdisable()\n\u001b[1;32m    155\u001b[0m \u001b[38;5;28;01mtry\u001b[39;00m:\n\u001b[0;32m--> 156\u001b[0m     timing \u001b[38;5;241m=\u001b[39m \u001b[38;5;28;43mself\u001b[39;49m\u001b[38;5;241;43m.\u001b[39;49m\u001b[43minner\u001b[49m\u001b[43m(\u001b[49m\u001b[43mit\u001b[49m\u001b[43m,\u001b[49m\u001b[43m \u001b[49m\u001b[38;5;28;43mself\u001b[39;49m\u001b[38;5;241;43m.\u001b[39;49m\u001b[43mtimer\u001b[49m\u001b[43m)\u001b[49m\n\u001b[1;32m    157\u001b[0m \u001b[38;5;28;01mfinally\u001b[39;00m:\n\u001b[1;32m    158\u001b[0m     \u001b[38;5;28;01mif\u001b[39;00m gcold:\n",
      "File \u001b[0;32m<magic-timeit>:1\u001b[0m, in \u001b[0;36minner\u001b[0;34m(_it, _timer)\u001b[0m\n",
      "    \u001b[0;31m[... skipping hidden 6 frame]\u001b[0m\n",
      "File \u001b[0;32m~/.conda/envs/venv/lib/python3.10/site-packages/jax/_src/dispatch.py:878\u001b[0m, in \u001b[0;36m_execute_compiled\u001b[0;34m(name, compiled, input_handler, output_buffer_counts, result_handler, has_unordered_effects, ordered_effects, kept_var_idx, has_host_callbacks, *args)\u001b[0m\n\u001b[1;32m    876\u001b[0m     runtime_token \u001b[38;5;241m=\u001b[39m \u001b[38;5;28;01mNone\u001b[39;00m\n\u001b[1;32m    877\u001b[0m \u001b[38;5;28;01melse\u001b[39;00m:\n\u001b[0;32m--> 878\u001b[0m   out_flat \u001b[38;5;241m=\u001b[39m \u001b[43mcompiled\u001b[49m\u001b[38;5;241;43m.\u001b[39;49m\u001b[43mexecute\u001b[49m\u001b[43m(\u001b[49m\u001b[43min_flat\u001b[49m\u001b[43m)\u001b[49m\n\u001b[1;32m    879\u001b[0m check_special(name, out_flat)\n\u001b[1;32m    880\u001b[0m out_bufs \u001b[38;5;241m=\u001b[39m unflatten(out_flat, output_buffer_counts)\n",
      "\u001b[0;31mXlaRuntimeError\u001b[0m: INTERNAL: Generated function failed: CpuCallback error: RuntimeError: The maximum number of solver steps was reached. Try increasing `max_steps`.\n\nAt:\n  /home/gridsan/utkarsh/.conda/envs/venv/lib/python3.10/site-packages/diffrax/misc/errors.py(33): raises\n  /home/gridsan/utkarsh/.conda/envs/venv/lib/python3.10/site-packages/jax/experimental/host_callback.py(725): __call__\n  /home/gridsan/utkarsh/.conda/envs/venv/lib/python3.10/site-packages/jax/experimental/host_callback.py(1294): _outside_call_run_callback\n  /home/gridsan/utkarsh/.conda/envs/venv/lib/python3.10/site-packages/jax/experimental/host_callback.py(1163): wrapped_callback\n  /home/gridsan/utkarsh/.conda/envs/venv/lib/python3.10/site-packages/jax/interpreters/mlir.py(1567): _wrapped_callback\n  /home/gridsan/utkarsh/.conda/envs/venv/lib/python3.10/site-packages/jax/interpreters/mlir.py(1592): _wrapped_callback\n  /home/gridsan/utkarsh/.conda/envs/venv/lib/python3.10/site-packages/jax/_src/dispatch.py(878): _execute_compiled\n  /home/gridsan/utkarsh/.conda/envs/venv/lib/python3.10/site-packages/jax/_src/dispatch.py(237): _xla_call_impl\n  /home/gridsan/utkarsh/.conda/envs/venv/lib/python3.10/site-packages/jax/core.py(701): process_call\n  /home/gridsan/utkarsh/.conda/envs/venv/lib/python3.10/site-packages/jax/core.py(1955): call_bind\n  /home/gridsan/utkarsh/.conda/envs/venv/lib/python3.10/site-packages/jax/core.py(1939): bind\n  /home/gridsan/utkarsh/.conda/envs/venv/lib/python3.10/site-packages/jax/_src/api.py(606): cache_miss\n  /home/gridsan/utkarsh/.conda/envs/venv/lib/python3.10/site-packages/jax/_src/traceback_util.py(162): reraise_with_filtered_traceback\n  <magic-timeit>(1): inner\n  /home/gridsan/utkarsh/.conda/envs/venv/lib/python3.10/site-packages/IPython/core/magics/execution.py(156): timeit\n  /home/gridsan/utkarsh/.conda/envs/venv/lib/python3.10/site-packages/IPython/core/magics/execution.py(1162): timeit\n  /home/gridsan/utkarsh/.conda/envs/venv/lib/python3.10/site-packages/IPython/core/interactiveshell.py(2309): run_line_magic\n  /state/partition1/slurm_tmp/20500750.0.0/ipykernel_57217/3263374720.py(1): <module>\n  /home/gridsan/utkarsh/.conda/envs/venv/lib/python3.10/site-packages/IPython/core/interactiveshell.py(3378): run_code\n  /home/gridsan/utkarsh/.conda/envs/venv/lib/python3.10/site-packages/IPython/core/interactiveshell.py(3318): run_ast_nodes\n  /home/gridsan/utkarsh/.conda/envs/venv/lib/python3.10/site-packages/IPython/core/interactiveshell.py(3139): run_cell_async\n  /home/gridsan/utkarsh/.conda/envs/venv/lib/python3.10/site-packages/IPython/core/async_helpers.py(129): _pseudo_sync_runner\n  /home/gridsan/utkarsh/.conda/envs/venv/lib/python3.10/site-packages/IPython/core/interactiveshell.py(2940): _run_cell\n  /home/gridsan/utkarsh/.conda/envs/venv/lib/python3.10/site-packages/IPython/core/interactiveshell.py(2885): run_cell\n  /home/gridsan/utkarsh/.conda/envs/venv/lib/python3.10/site-packages/ipykernel/zmqshell.py(528): run_cell\n  /home/gridsan/utkarsh/.conda/envs/venv/lib/python3.10/site-packages/ipykernel/ipkernel.py(383): do_execute\n  /home/gridsan/utkarsh/.conda/envs/venv/lib/python3.10/site-packages/ipykernel/kernelbase.py(730): execute_request\n  /home/gridsan/utkarsh/.conda/envs/venv/lib/python3.10/site-packages/ipykernel/kernelbase.py(406): dispatch_shell\n  /home/gridsan/utkarsh/.conda/envs/venv/lib/python3.10/site-packages/ipykernel/kernelbase.py(499): process_one\n  /home/gridsan/utkarsh/.conda/envs/venv/lib/python3.10/site-packages/ipykernel/kernelbase.py(510): dispatch_queue\n  /home/gridsan/utkarsh/.conda/envs/venv/lib/python3.10/asyncio/events.py(80): _run\n  /home/gridsan/utkarsh/.conda/envs/venv/lib/python3.10/asyncio/base_events.py(1896): _run_once\n  /home/gridsan/utkarsh/.conda/envs/venv/lib/python3.10/asyncio/base_events.py(600): run_forever\n  /home/gridsan/utkarsh/.conda/envs/venv/lib/python3.10/site-packages/tornado/platform/asyncio.py(199): start\n  /home/gridsan/utkarsh/.conda/envs/venv/lib/python3.10/site-packages/ipykernel/kernelapp.py(712): start\n  /home/gridsan/utkarsh/.conda/envs/venv/lib/python3.10/site-packages/traitlets/config/application.py(982): launch_instance\n  /home/gridsan/utkarsh/.conda/envs/venv/lib/python3.10/site-packages/ipykernel_launcher.py(17): <module>\n  /home/gridsan/utkarsh/.conda/envs/venv/lib/python3.10/runpy.py(86): _run_code\n  /home/gridsan/utkarsh/.conda/envs/venv/lib/python3.10/runpy.py(196): _run_module_as_main\n"
     ]
    }
   ],
   "source": [
    "%timeit sol = main(28.0)"
   ]
  },
  {
   "cell_type": "code",
   "execution_count": null,
   "id": "fecc02f8",
   "metadata": {},
   "outputs": [],
   "source": [
    "sol.stats['num_steps']"
   ]
  },
  {
   "cell_type": "code",
   "execution_count": null,
   "id": "36840587",
   "metadata": {},
   "outputs": [],
   "source": []
  }
 ],
 "metadata": {
  "kernelspec": {
   "display_name": "Python [conda env:.conda-venv]",
   "language": "python",
   "name": "conda-env-.conda-venv-py"
  },
  "language_info": {
   "codemirror_mode": {
    "name": "ipython",
    "version": 3
   },
   "file_extension": ".py",
   "mimetype": "text/x-python",
   "name": "python",
   "nbconvert_exporter": "python",
   "pygments_lexer": "ipython3",
   "version": "3.10.6"
  },
  "latex_envs": {
   "LaTeX_envs_menu_present": true,
   "autoclose": false,
   "autocomplete": true,
   "bibliofile": "biblio.bib",
   "cite_by": "apalike",
   "current_citInitial": 1,
   "eqLabelWithNumbers": true,
   "eqNumInitial": 1,
   "hotkeys": {
    "equation": "Ctrl-E",
    "itemize": "Ctrl-I"
   },
   "labels_anchors": false,
   "latex_user_defs": false,
   "report_style_numbering": false,
   "user_envs_cfg": false
  },
  "toc": {
   "base_numbering": 1,
   "nav_menu": {},
   "number_sections": true,
   "sideBar": true,
   "skip_h1_title": false,
   "title_cell": "Table of Contents",
   "title_sidebar": "Contents",
   "toc_cell": false,
   "toc_position": {},
   "toc_section_display": true,
   "toc_window_display": false
  }
 },
 "nbformat": 4,
 "nbformat_minor": 5
}
