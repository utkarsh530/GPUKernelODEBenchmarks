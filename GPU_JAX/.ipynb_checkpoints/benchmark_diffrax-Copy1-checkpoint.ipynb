{
 "cells": [
  {
   "cell_type": "code",
   "execution_count": 176,
   "id": "dcb5ea92",
   "metadata": {},
   "outputs": [],
   "source": [
    "import time\n",
    "\n",
    "import diffrax\n",
    "import equinox as eqx  # https://github.com/patrick-kidger/equinox\n",
    "import jax\n",
    "import jax.numpy as jnp\n",
    "import numpy as np"
   ]
  },
  {
   "cell_type": "code",
   "execution_count": 50,
   "id": "daf839c9",
   "metadata": {},
   "outputs": [],
   "source": [
    "from matplotlib import pyplot as  plt"
   ]
  },
  {
   "cell_type": "code",
   "execution_count": 106,
   "id": "6ddc024a",
   "metadata": {},
   "outputs": [
    {
     "name": "stdout",
     "output_type": "stream",
     "text": [
      "gpu\n"
     ]
    }
   ],
   "source": [
    "from jax.lib import xla_bridge\n",
    "print(xla_bridge.get_backend().platform)"
   ]
  },
  {
   "cell_type": "code",
   "execution_count": 52,
   "id": "71a5f1a2",
   "metadata": {},
   "outputs": [],
   "source": [
    "#jax.config.update(\"jax_enable_x64\", True)"
   ]
  },
  {
   "cell_type": "code",
   "execution_count": 113,
   "id": "7b18abce",
   "metadata": {},
   "outputs": [
    {
     "data": {
      "text/plain": [
       "DeviceArray([1.], dtype=float32)"
      ]
     },
     "execution_count": 113,
     "metadata": {},
     "output_type": "execute_result"
    }
   ],
   "source": [
    "jnp.array([1.0],dtype = float)"
   ]
  },
  {
   "cell_type": "code",
   "execution_count": 115,
   "id": "def2f4f3",
   "metadata": {},
   "outputs": [],
   "source": [
    "class Lorenz(eqx.Module):\n",
    "    k1: float\n",
    "\n",
    "    def __call__(self, t, y, args):\n",
    "        f0 = 10.0*(y[1] - y[0])\n",
    "        f1 = self.k1 * y[0] - y[1] - y[0] * y[2]\n",
    "        f2 = y[0] * y[1] - (8/3)*y[2]\n",
    "        return jnp.stack([f0, f1, f2])"
   ]
  },
  {
   "cell_type": "code",
   "execution_count": 320,
   "id": "302b8af5",
   "metadata": {},
   "outputs": [],
   "source": [
    "@jax.jit\n",
    "def main(k1):\n",
    "    lorenz = Lorenz(k1)\n",
    "    terms = diffrax.ODETerm(lorenz)\n",
    "    t0 = 0.0\n",
    "    t1 = 1.0\n",
    "    y0 = jnp.array([1.0, 0.0, 0.0])\n",
    "    dt0 = 0.001\n",
    "    solver = diffrax.Tsit5()\n",
    "    saveat = diffrax.SaveAt(ts = jnp.array([t0,t1]))\n",
    "    stepsize_controller = diffrax.PIDController(rtol=1e-6, atol=1e-3)\n",
    "    sol = diffrax.diffeqsolve(\n",
    "        terms,\n",
    "        solver,\n",
    "        t0,\n",
    "        t1,\n",
    "        dt0,\n",
    "        y0,\n",
    "#         saveat=saveat,\n",
    "        #stepsize_controller=stepsize_controller,\n",
    "    )\n",
    "    return sol"
   ]
  },
  {
   "cell_type": "code",
   "execution_count": 321,
   "id": "05a15dd6",
   "metadata": {},
   "outputs": [
    {
     "name": "stderr",
     "output_type": "stream",
     "text": [
      "/home/gridsan/utkarsh/.conda/envs/venv/lib/python3.10/site-packages/diffrax/integrate.py:83: FutureWarning: jax.tree_leaves is deprecated, and will be removed in a future release. Use jax.tree_util.tree_leaves instead.\n",
      "  [ts, save_index] + jax.tree_leaves(ys),\n",
      "/home/gridsan/utkarsh/.conda/envs/venv/lib/python3.10/site-packages/diffrax/integrate.py:81: FutureWarning: jax.tree_leaves is deprecated, and will be removed in a future release. Use jax.tree_util.tree_leaves instead.\n",
      "  lambda s: [s.ts, s.save_index] + jax.tree_leaves(s.ys),\n"
     ]
    },
    {
     "data": {
      "text/plain": [
       "Solution(\n",
       "  t0=f32[],\n",
       "  t1=f32[],\n",
       "  ts=f32[1],\n",
       "  ys=f32[1,3],\n",
       "  interpolation=None,\n",
       "  stats={\n",
       "    'compiled_num_steps':\n",
       "    None,\n",
       "    'max_steps':\n",
       "    i32[],\n",
       "    'num_accepted_steps':\n",
       "    i32[],\n",
       "    'num_rejected_steps':\n",
       "    i32[],\n",
       "    'num_steps':\n",
       "    i32[]\n",
       "  },\n",
       "  result=i32[],\n",
       "  solver_state=None,\n",
       "  controller_state=None,\n",
       "  made_jump=None\n",
       ")"
      ]
     },
     "execution_count": 321,
     "metadata": {},
     "output_type": "execute_result"
    }
   ],
   "source": [
    "main(28.0)\n"
   ]
  },
  {
   "cell_type": "code",
   "execution_count": 323,
   "id": "dc8b9c3b",
   "metadata": {},
   "outputs": [
    {
     "name": "stdout",
     "output_type": "stream",
     "text": [
      "Results:\n",
      "t=1.0, y=[-9.408454895019531, -9.096183776855469, 28.581666946411133]\n",
      "Took 1001 steps in 0.051194190979003906 seconds.\n"
     ]
    }
   ],
   "source": [
    "\n",
    "start = time.time()\n",
    "sol = main(28.0)\n",
    "end = time.time()\n",
    "\n",
    "print(\"Results:\")\n",
    "for ti, yi in zip(sol.ts, sol.ys):\n",
    "    print(f\"t={ti.item()}, y={yi.tolist()}\")\n",
    "print(f\"Took {sol.stats['num_steps']} steps in {end - start} seconds.\")"
   ]
  },
  {
   "cell_type": "code",
   "execution_count": 324,
   "id": "c5cf2d7c",
   "metadata": {},
   "outputs": [],
   "source": [
    "numberOfParameters = 768000\n",
    "parameterList = jnp.linspace(0.0,21.0,numberOfParameters)"
   ]
  },
  {
   "cell_type": "code",
   "execution_count": 325,
   "id": "adb7251f",
   "metadata": {},
   "outputs": [
    {
     "data": {
      "text/plain": [
       "DeviceArray([0.0000000e+00, 2.7343785e-05, 5.4687571e-05, ...,\n",
       "             2.0999945e+01, 2.0999973e+01, 2.1000000e+01], dtype=float32)"
      ]
     },
     "execution_count": 325,
     "metadata": {},
     "output_type": "execute_result"
    }
   ],
   "source": [
    "parameterList"
   ]
  },
  {
   "cell_type": "code",
   "execution_count": 328,
   "id": "bb2fbaa9",
   "metadata": {},
   "outputs": [
    {
     "name": "stdout",
     "output_type": "stream",
     "text": [
      "44.8 ms ± 426 µs per loop (mean ± std. dev. of 7 runs, 10 loops each)\n"
     ]
    }
   ],
   "source": [
    "%timeit main(28.0)"
   ]
  },
  {
   "cell_type": "code",
   "execution_count": 329,
   "id": "bb3064cd",
   "metadata": {},
   "outputs": [],
   "source": [
    "out = jax.vmap(main)(parameterList)"
   ]
  },
  {
   "cell_type": "code",
   "execution_count": 330,
   "id": "9af82972",
   "metadata": {},
   "outputs": [
    {
     "name": "stdout",
     "output_type": "stream",
     "text": [
      "975 ms ± 158 µs per loop (mean ± std. dev. of 7 runs, 1 loop each)\n"
     ]
    }
   ],
   "source": [
    "%timeit jax.vmap(main)(parameterList)"
   ]
  },
  {
   "cell_type": "code",
   "execution_count": 334,
   "id": "9ae4302b",
   "metadata": {},
   "outputs": [],
   "source": [
    "@jax.jit\n",
    "def solve(prob):\n",
    "    t0 = 0.0\n",
    "    t1 = 1.0\n",
    "    y0 = jnp.array([1.0, 0.0, 0.0])\n",
    "    dt0 = 0.001\n",
    "    sol = diffrax.diffeqsolve(\n",
    "        prob,\n",
    "        diffrax.Tsit5(),\n",
    "        t0,\n",
    "        t1,\n",
    "        dt0,\n",
    "        y0,\n",
    "#         saveat=saveat,\n",
    "        #stepsize_controller=stepsize_controller,\n",
    "    )\n",
    "    return sol"
   ]
  },
  {
   "cell_type": "code",
   "execution_count": 335,
   "id": "d5bf123e",
   "metadata": {},
   "outputs": [],
   "source": [
    "prob = diffrax.ODETerm(Lorenz(28.0))"
   ]
  },
  {
   "cell_type": "code",
   "execution_count": 336,
   "id": "dea34435",
   "metadata": {},
   "outputs": [
    {
     "data": {
      "text/plain": [
       "ODETerm(vector_field=Lorenz(k1=28.0))"
      ]
     },
     "execution_count": 336,
     "metadata": {},
     "output_type": "execute_result"
    }
   ],
   "source": [
    "prob"
   ]
  },
  {
   "cell_type": "code",
   "execution_count": 337,
   "id": "4d66db99",
   "metadata": {},
   "outputs": [
    {
     "name": "stderr",
     "output_type": "stream",
     "text": [
      "/home/gridsan/utkarsh/.conda/envs/venv/lib/python3.10/site-packages/diffrax/integrate.py:83: FutureWarning: jax.tree_leaves is deprecated, and will be removed in a future release. Use jax.tree_util.tree_leaves instead.\n",
      "  [ts, save_index] + jax.tree_leaves(ys),\n",
      "/home/gridsan/utkarsh/.conda/envs/venv/lib/python3.10/site-packages/diffrax/integrate.py:81: FutureWarning: jax.tree_leaves is deprecated, and will be removed in a future release. Use jax.tree_util.tree_leaves instead.\n",
      "  lambda s: [s.ts, s.save_index] + jax.tree_leaves(s.ys),\n"
     ]
    },
    {
     "data": {
      "text/plain": [
       "Solution(\n",
       "  t0=f32[],\n",
       "  t1=f32[],\n",
       "  ts=f32[1],\n",
       "  ys=f32[1,3],\n",
       "  interpolation=None,\n",
       "  stats={\n",
       "    'compiled_num_steps':\n",
       "    None,\n",
       "    'max_steps':\n",
       "    i32[],\n",
       "    'num_accepted_steps':\n",
       "    i32[],\n",
       "    'num_rejected_steps':\n",
       "    i32[],\n",
       "    'num_steps':\n",
       "    i32[]\n",
       "  },\n",
       "  result=i32[],\n",
       "  solver_state=None,\n",
       "  controller_state=None,\n",
       "  made_jump=None\n",
       ")"
      ]
     },
     "execution_count": 337,
     "metadata": {},
     "output_type": "execute_result"
    }
   ],
   "source": [
    "solve(prob)"
   ]
  },
  {
   "cell_type": "code",
   "execution_count": 338,
   "id": "7c845eda",
   "metadata": {},
   "outputs": [
    {
     "name": "stdout",
     "output_type": "stream",
     "text": [
      "44.6 ms ± 80.4 µs per loop (mean ± std. dev. of 7 runs, 10 loops each)\n"
     ]
    }
   ],
   "source": [
    "%timeit solve(prob)"
   ]
  },
  {
   "cell_type": "code",
   "execution_count": null,
   "id": "ee8c3aca",
   "metadata": {},
   "outputs": [],
   "source": []
  },
  {
   "cell_type": "code",
   "execution_count": 342,
   "id": "7c183ab3",
   "metadata": {},
   "outputs": [],
   "source": [
    "@jax.jit\n",
    "def main(k1):\n",
    "    lorenz = Lorenz(k1)\n",
    "    terms = diffrax.ODETerm(lorenz)\n",
    "    t0 = 0.0\n",
    "    t1 = 1.0\n",
    "    y0 = jnp.array([1.0, 0.0, 0.0])\n",
    "    dt0 = 0.001\n",
    "    solver = diffrax.Tsit5()\n",
    "    saveat = diffrax.SaveAt(ts = jnp.array([t0,t1]))\n",
    "    stepsize_controller = diffrax.PIDController(rtol=1e-8, atol=1e-8)\n",
    "    sol = diffrax.diffeqsolve(\n",
    "        terms,\n",
    "        solver,\n",
    "        t0,\n",
    "        t1,\n",
    "        dt0,\n",
    "        y0,\n",
    "#         saveat=saveat,\n",
    "        stepsize_controller=stepsize_controller,\n",
    "    )\n",
    "    return sol"
   ]
  },
  {
   "cell_type": "code",
   "execution_count": 343,
   "id": "e55964cc",
   "metadata": {},
   "outputs": [
    {
     "name": "stderr",
     "output_type": "stream",
     "text": [
      "/home/gridsan/utkarsh/.conda/envs/venv/lib/python3.10/site-packages/diffrax/integrate.py:83: FutureWarning: jax.tree_leaves is deprecated, and will be removed in a future release. Use jax.tree_util.tree_leaves instead.\n",
      "  [ts, save_index] + jax.tree_leaves(ys),\n",
      "/home/gridsan/utkarsh/.conda/envs/venv/lib/python3.10/site-packages/diffrax/integrate.py:81: FutureWarning: jax.tree_leaves is deprecated, and will be removed in a future release. Use jax.tree_util.tree_leaves instead.\n",
      "  lambda s: [s.ts, s.save_index] + jax.tree_leaves(s.ys),\n"
     ]
    },
    {
     "name": "stdout",
     "output_type": "stream",
     "text": [
      "11.2 ms ± 64.7 µs per loop (mean ± std. dev. of 7 runs, 1 loop each)\n"
     ]
    }
   ],
   "source": [
    "%timeit main(28.0)"
   ]
  },
  {
   "cell_type": "code",
   "execution_count": 345,
   "id": "3e589402",
   "metadata": {},
   "outputs": [
    {
     "name": "stdout",
     "output_type": "stream",
     "text": [
      "254 ms ± 320 µs per loop (mean ± std. dev. of 7 runs, 1 loop each)\n"
     ]
    }
   ],
   "source": [
    "%timeit jax.vmap(main)(parameterList)"
   ]
  },
  {
   "cell_type": "code",
   "execution_count": null,
   "id": "fecc02f8",
   "metadata": {},
   "outputs": [],
   "source": []
  }
 ],
 "metadata": {
  "kernelspec": {
   "display_name": "Python [conda env:.conda-venv]",
   "language": "python",
   "name": "conda-env-.conda-venv-py"
  },
  "language_info": {
   "codemirror_mode": {
    "name": "ipython",
    "version": 3
   },
   "file_extension": ".py",
   "mimetype": "text/x-python",
   "name": "python",
   "nbconvert_exporter": "python",
   "pygments_lexer": "ipython3",
   "version": "3.10.6"
  },
  "latex_envs": {
   "LaTeX_envs_menu_present": true,
   "autoclose": false,
   "autocomplete": true,
   "bibliofile": "biblio.bib",
   "cite_by": "apalike",
   "current_citInitial": 1,
   "eqLabelWithNumbers": true,
   "eqNumInitial": 1,
   "hotkeys": {
    "equation": "Ctrl-E",
    "itemize": "Ctrl-I"
   },
   "labels_anchors": false,
   "latex_user_defs": false,
   "report_style_numbering": false,
   "user_envs_cfg": false
  },
  "toc": {
   "base_numbering": 1,
   "nav_menu": {},
   "number_sections": true,
   "sideBar": true,
   "skip_h1_title": false,
   "title_cell": "Table of Contents",
   "title_sidebar": "Contents",
   "toc_cell": false,
   "toc_position": {},
   "toc_section_display": true,
   "toc_window_display": false
  }
 },
 "nbformat": 4,
 "nbformat_minor": 5
}
