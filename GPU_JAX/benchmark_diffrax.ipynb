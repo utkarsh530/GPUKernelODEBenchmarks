{
 "cells": [
  {
   "cell_type": "code",
   "execution_count": 55,
   "id": "dcb5ea92",
   "metadata": {},
   "outputs": [],
   "source": [
    "import time\n",
    "\n",
    "import diffrax\n",
    "import equinox as eqx  # https://github.com/patrick-kidger/equinox\n",
    "import jax\n",
    "import jax.numpy as jnp\n",
    "import numpy as np\n",
    "import os"
   ]
  },
  {
   "cell_type": "code",
   "execution_count": 2,
   "id": "fca0cc82",
   "metadata": {},
   "outputs": [],
   "source": [
    "from matplotlib import pyplot as  plt"
   ]
  },
  {
   "cell_type": "code",
   "execution_count": 3,
   "id": "dcae9315",
   "metadata": {},
   "outputs": [
    {
     "name": "stdout",
     "output_type": "stream",
     "text": [
      "Working on : gpu\n"
     ]
    }
   ],
   "source": [
    "from jax.lib import xla_bridge\n",
    "print(\"Working on :\", xla_bridge.get_backend().platform)"
   ]
  },
  {
   "cell_type": "code",
   "execution_count": 4,
   "id": "def2f4f3",
   "metadata": {},
   "outputs": [],
   "source": [
    "class Lorenz(eqx.Module):\n",
    "    k1: float\n",
    "\n",
    "    def __call__(self, t, y, args):\n",
    "        f0 = 10.0*(y[1] - y[0])\n",
    "        f1 = self.k1 * y[0] - y[1] - y[0] * y[2]\n",
    "        f2 = y[0] * y[1] - (8/3)*y[2]\n",
    "        return jnp.stack([f0, f1, f2])"
   ]
  },
  {
   "cell_type": "code",
   "execution_count": 5,
   "id": "58fa3f48",
   "metadata": {},
   "outputs": [],
   "source": [
    "@jax.jit\n",
    "def main(k1):\n",
    "    lorenz = Lorenz(k1)\n",
    "    terms = diffrax.ODETerm(lorenz)\n",
    "    t0 = 0.0\n",
    "    t1 = 1.0\n",
    "    y0 = jnp.array([1.0, 0.0, 0.0])\n",
    "    dt0 = 0.001\n",
    "    solver = diffrax.Tsit5()\n",
    "    saveat = diffrax.SaveAt(ts = jnp.array([t0,t1]))\n",
    "    stepsize_controller = diffrax.PIDController(rtol=1e-6, atol=1e-3)\n",
    "    sol = diffrax.diffeqsolve(\n",
    "        terms,\n",
    "        solver,\n",
    "        t0,\n",
    "        t1,\n",
    "        dt0,\n",
    "        y0,\n",
    "#         saveat=saveat,\n",
    "        #stepsize_controller=stepsize_controller,\n",
    "    )\n",
    "    return sol"
   ]
  },
  {
   "cell_type": "code",
   "execution_count": 11,
   "id": "dc8b9c3b",
   "metadata": {},
   "outputs": [
    {
     "name": "stdout",
     "output_type": "stream",
     "text": [
      "Results:\n",
      "t=1.0, y=[-9.408454895019531, -9.096183776855469, 28.581666946411133]\n",
      "Took 1001 steps in 0.050737619400024414 seconds.\n"
     ]
    }
   ],
   "source": [
    "\n",
    "start = time.time()\n",
    "sol = main(28.0)\n",
    "end = time.time()\n",
    "\n",
    "print(\"Results:\")\n",
    "for ti, yi in zip(sol.ts, sol.ys):\n",
    "    print(f\"t={ti.item()}, y={yi.tolist()}\")\n",
    "print(f\"Took {sol.stats['num_steps']} steps in {end - start} seconds.\")"
   ]
  },
  {
   "cell_type": "code",
   "execution_count": 12,
   "id": "19876ef6",
   "metadata": {},
   "outputs": [],
   "source": [
    "numberOfParameters = 768000\n",
    "parameterList = jnp.linspace(0.0,21.0,numberOfParameters)"
   ]
  },
  {
   "cell_type": "code",
   "execution_count": 13,
   "id": "64534dfd",
   "metadata": {},
   "outputs": [
    {
     "data": {
      "text/plain": [
       "DeviceArray([0.0000000e+00, 2.7343785e-05, 5.4687571e-05, ...,\n",
       "             2.0999945e+01, 2.0999973e+01, 2.1000000e+01], dtype=float32)"
      ]
     },
     "execution_count": 13,
     "metadata": {},
     "output_type": "execute_result"
    }
   ],
   "source": [
    "parameterList"
   ]
  },
  {
   "cell_type": "code",
   "execution_count": 17,
   "id": "167f7826",
   "metadata": {},
   "outputs": [
    {
     "name": "stdout",
     "output_type": "stream",
     "text": [
      "1.02 s ± 618 µs per loop (mean ± std. dev. of 7 runs, 1 loop each)\n"
     ]
    }
   ],
   "source": [
    "res = timeit.repeat(lambda: jax.vmap(main)(parameterList),repeat = 100,number = 1)"
   ]
  },
  {
   "cell_type": "code",
   "execution_count": 61,
   "id": "e489b953",
   "metadata": {},
   "outputs": [
    {
     "data": {
      "text/plain": [
       "'10.33'"
      ]
     },
     "execution_count": 61,
     "metadata": {},
     "output_type": "execute_result"
    }
   ],
   "source": [
    "str(10.33)"
   ]
  },
  {
   "cell_type": "code",
   "execution_count": null,
   "id": "72b68334",
   "metadata": {},
   "outputs": [],
   "source": [
    "file = open(\"./data/Jax_times_unadaptive.txt\",\"a+\")\n",
    "file.write(min(res)/1000)\n",
    "file.close()"
   ]
  },
  {
   "cell_type": "code",
   "execution_count": 18,
   "id": "ab13e04c",
   "metadata": {},
   "outputs": [],
   "source": [
    "@jax.jit\n",
    "def main(k1):\n",
    "    lorenz = Lorenz(k1)\n",
    "    terms = diffrax.ODETerm(lorenz)\n",
    "    t0 = 0.0\n",
    "    t1 = 1.0\n",
    "    y0 = jnp.array([1.0, 0.0, 0.0])\n",
    "    dt0 = 0.001\n",
    "    solver = diffrax.Tsit5()\n",
    "    saveat = diffrax.SaveAt(ts = jnp.array([t0,t1]))\n",
    "    stepsize_controller = diffrax.PIDController(rtol=1e-8, atol=1e-8)\n",
    "    sol = diffrax.diffeqsolve(\n",
    "        terms,\n",
    "        solver,\n",
    "        t0,\n",
    "        t1,\n",
    "        dt0,\n",
    "        y0,\n",
    "#         saveat=saveat,\n",
    "        stepsize_controller=stepsize_controller,\n",
    "    )\n",
    "    return sol"
   ]
  },
  {
   "cell_type": "code",
   "execution_count": 33,
   "id": "c05583f4",
   "metadata": {},
   "outputs": [],
   "source": [
    "import timeit"
   ]
  },
  {
   "cell_type": "code",
   "execution_count": 50,
   "id": "99137ee7",
   "metadata": {},
   "outputs": [],
   "source": [
    "res = timeit.repeat(lambda: jax.vmap(main)(parameterList),repeat = 100,number = 1)"
   ]
  },
  {
   "cell_type": "code",
   "execution_count": 52,
   "id": "40817ffa",
   "metadata": {},
   "outputs": [
    {
     "data": {
      "text/plain": [
       "0.2672618981450796"
      ]
     },
     "execution_count": 52,
     "metadata": {},
     "output_type": "execute_result"
    }
   ],
   "source": [
    "print(min(res))"
   ]
  },
  {
   "cell_type": "code",
   "execution_count": 59,
   "id": "e3a4cba3",
   "metadata": {},
   "outputs": [
    {
     "ename": "FileNotFoundError",
     "evalue": "[Errno 2] No such file or directory: './data/Jax_times_unadaptive.txt'",
     "output_type": "error",
     "traceback": [
      "\u001b[0;31m---------------------------------------------------------------------------\u001b[0m",
      "\u001b[0;31mFileNotFoundError\u001b[0m                         Traceback (most recent call last)",
      "Cell \u001b[0;32mIn [59], line 1\u001b[0m\n\u001b[0;32m----> 1\u001b[0m file \u001b[38;5;241m=\u001b[39m \u001b[38;5;28;43mopen\u001b[39;49m\u001b[43m(\u001b[49m\u001b[38;5;124;43m\"\u001b[39;49m\u001b[38;5;124;43m./data/Jax_times_unadaptive.txt\u001b[39;49m\u001b[38;5;124;43m\"\u001b[39;49m\u001b[43m,\u001b[49m\u001b[38;5;124;43m\"\u001b[39;49m\u001b[38;5;124;43ma+\u001b[39;49m\u001b[38;5;124;43m\"\u001b[39;49m\u001b[43m)\u001b[49m\n",
      "\u001b[0;31mFileNotFoundError\u001b[0m: [Errno 2] No such file or directory: './data/Jax_times_unadaptive.txt'"
     ]
    }
   ],
   "source": [
    "file = open(\"./data/Jax_times_adaptive.txt\",\"a+\")\n",
    "file.write(min(res)/1000)\n",
    "file.close()"
   ]
  }
 ],
 "metadata": {
  "kernelspec": {
   "display_name": "Python [conda env:.conda-venv]",
   "language": "python",
   "name": "conda-env-.conda-venv-py"
  },
  "language_info": {
   "codemirror_mode": {
    "name": "ipython",
    "version": 3
   },
   "file_extension": ".py",
   "mimetype": "text/x-python",
   "name": "python",
   "nbconvert_exporter": "python",
   "pygments_lexer": "ipython3",
   "version": "3.10.6"
  },
  "latex_envs": {
   "LaTeX_envs_menu_present": true,
   "autoclose": false,
   "autocomplete": true,
   "bibliofile": "biblio.bib",
   "cite_by": "apalike",
   "current_citInitial": 1,
   "eqLabelWithNumbers": true,
   "eqNumInitial": 1,
   "hotkeys": {
    "equation": "Ctrl-E",
    "itemize": "Ctrl-I"
   },
   "labels_anchors": false,
   "latex_user_defs": false,
   "report_style_numbering": false,
   "user_envs_cfg": false
  },
  "toc": {
   "base_numbering": 1,
   "nav_menu": {},
   "number_sections": true,
   "sideBar": true,
   "skip_h1_title": false,
   "title_cell": "Table of Contents",
   "title_sidebar": "Contents",
   "toc_cell": false,
   "toc_position": {},
   "toc_section_display": true,
   "toc_window_display": false
  }
 },
 "nbformat": 4,
 "nbformat_minor": 5
}
